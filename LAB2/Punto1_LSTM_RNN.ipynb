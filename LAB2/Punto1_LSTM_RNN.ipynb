{
  "nbformat": 4,
  "nbformat_minor": 0,
  "metadata": {
    "colab": {
      "provenance": []
    },
    "kernelspec": {
      "name": "python3",
      "display_name": "Python 3"
    },
    "language_info": {
      "name": "python"
    }
  },
  "cells": [
    {
      "cell_type": "code",
      "source": [
        "from google.colab import drive\n",
        "drive.mount('/content/drive/')"
      ],
      "metadata": {
        "colab": {
          "base_uri": "https://localhost:8080/"
        },
        "id": "4dztneNBSss_",
        "outputId": "245621fa-62ab-4c48-8b16-295ec0320b84"
      },
      "execution_count": null,
      "outputs": [
        {
          "output_type": "stream",
          "name": "stdout",
          "text": [
            "Drive already mounted at /content/drive/; to attempt to forcibly remount, call drive.mount(\"/content/drive/\", force_remount=True).\n"
          ]
        }
      ]
    },
    {
      "cell_type": "markdown",
      "source": [
        "# Carga y preprocesado de Datos\n",
        "\n",
        "El primer paso que debemos realizar es cargar y preparar el conjunto de datos con el que entrenaremos nuestra red neuronal"
      ],
      "metadata": {
        "id": "Jwhm8ewgZGfs"
      }
    },
    {
      "cell_type": "code",
      "execution_count": null,
      "metadata": {
        "id": "8HAEQlL-yHG1"
      },
      "outputs": [],
      "source": [
        "from google.colab import files\n",
        "#files.upload()\n",
        "path_data = '/content/drive/MyDrive/datos_secuenciales/RNN/rnn.txt'"
      ]
    },
    {
      "cell_type": "markdown",
      "source": [
        "En este caso el proyecto se aborda a nivel de caracter, por lo que se puede considerar que el corpus son los caracteres y, por tanto, seria un corpus muy pequeño.\n",
        "\n",
        "Cabe recordar que las redes neuronales solo procesan valores numericos, no letras. por lo tanto debemos traducir los caracteres a representacion numerica. para ello crearemos dos tablas de traduccion: una de caracteres a numeros y otra de numeros a caracteres:"
      ],
      "metadata": {
        "id": "oG5dx0fAg9Nh"
      }
    },
    {
      "cell_type": "code",
      "source": [
        "text = open(path_data,'rb').read().decode(encoding='utf-8')\n",
        "print('Longitud del texto: {} carácteres'.format(len(text)))\n",
        "vocab = sorted(set(text))\n",
        "\n",
        "print('El texto está compuesto de esstos {} caráteres:'.format(len(vocab)))\n",
        "print(vocab)"
      ],
      "metadata": {
        "colab": {
          "base_uri": "https://localhost:8080/"
        },
        "id": "NLDIaD3y1ihZ",
        "outputId": "9b3bed3d-5b71-4874-8cae-20d6086ee099"
      },
      "execution_count": null,
      "outputs": [
        {
          "output_type": "stream",
          "name": "stdout",
          "text": [
            "Longitud del texto: 203249 carácteres\n",
            "El texto está compuesto de esstos 92 caráteres:\n",
            "['\\n', '\\r', ' ', '!', '\"', '#', '%', \"'\", '(', ')', '*', '+', ',', '-', '.', '/', '0', '1', '2', '3', '4', '5', '6', '7', '8', '9', ':', ';', '<', '=', '>', '?', '@', 'A', 'B', 'C', 'D', 'E', 'F', 'G', 'H', 'I', 'J', 'K', 'L', 'M', 'N', 'O', 'P', 'Q', 'R', 'S', 'T', 'U', 'V', 'W', 'X', 'Y', '[', ']', '_', 'a', 'b', 'c', 'd', 'e', 'f', 'g', 'h', 'i', 'j', 'k', 'l', 'm', 'n', 'o', 'p', 'q', 'r', 's', 't', 'u', 'v', 'w', 'x', 'y', 'z', '\\xad', 'ÿ', 'Š', '‡', '…']\n"
          ]
        }
      ]
    },
    {
      "cell_type": "markdown",
      "source": [
        "Ahora tenemos un token con la representacion de entero (integer) para cada caracter, como podemos ver ejecutando el siguiente codigo:"
      ],
      "metadata": {
        "id": "wFQadx5fiAF7"
      }
    },
    {
      "cell_type": "code",
      "source": [
        "#traduciendo letras a numeros. para ello es necesario crear dos tablas donde una sera la traduccion de texto a numero\n",
        "#y otra de numero a texto\n",
        "import numpy as np\n",
        "\n",
        "char2idx = {u:i for i, u in enumerate(vocab)}\n",
        "idx2char = np.array(vocab)\n",
        "\n",
        "for char,_ in zip(char2idx,range(len(vocab))):\n",
        "  print(' {:4s}: {:3d},'.format(repr(char), char2idx[char]))"
      ],
      "metadata": {
        "id": "juqgbevA27TH",
        "colab": {
          "base_uri": "https://localhost:8080/"
        },
        "outputId": "0e0b69ab-6509-4f8a-86af-3a99ce2459b3"
      },
      "execution_count": null,
      "outputs": [
        {
          "output_type": "stream",
          "name": "stdout",
          "text": [
            " '\\n':   0,\n",
            " '\\r':   1,\n",
            " ' ' :   2,\n",
            " '!' :   3,\n",
            " '\"' :   4,\n",
            " '#' :   5,\n",
            " '%' :   6,\n",
            " \"'\" :   7,\n",
            " '(' :   8,\n",
            " ')' :   9,\n",
            " '*' :  10,\n",
            " '+' :  11,\n",
            " ',' :  12,\n",
            " '-' :  13,\n",
            " '.' :  14,\n",
            " '/' :  15,\n",
            " '0' :  16,\n",
            " '1' :  17,\n",
            " '2' :  18,\n",
            " '3' :  19,\n",
            " '4' :  20,\n",
            " '5' :  21,\n",
            " '6' :  22,\n",
            " '7' :  23,\n",
            " '8' :  24,\n",
            " '9' :  25,\n",
            " ':' :  26,\n",
            " ';' :  27,\n",
            " '<' :  28,\n",
            " '=' :  29,\n",
            " '>' :  30,\n",
            " '?' :  31,\n",
            " '@' :  32,\n",
            " 'A' :  33,\n",
            " 'B' :  34,\n",
            " 'C' :  35,\n",
            " 'D' :  36,\n",
            " 'E' :  37,\n",
            " 'F' :  38,\n",
            " 'G' :  39,\n",
            " 'H' :  40,\n",
            " 'I' :  41,\n",
            " 'J' :  42,\n",
            " 'K' :  43,\n",
            " 'L' :  44,\n",
            " 'M' :  45,\n",
            " 'N' :  46,\n",
            " 'O' :  47,\n",
            " 'P' :  48,\n",
            " 'Q' :  49,\n",
            " 'R' :  50,\n",
            " 'S' :  51,\n",
            " 'T' :  52,\n",
            " 'U' :  53,\n",
            " 'V' :  54,\n",
            " 'W' :  55,\n",
            " 'X' :  56,\n",
            " 'Y' :  57,\n",
            " '[' :  58,\n",
            " ']' :  59,\n",
            " '_' :  60,\n",
            " 'a' :  61,\n",
            " 'b' :  62,\n",
            " 'c' :  63,\n",
            " 'd' :  64,\n",
            " 'e' :  65,\n",
            " 'f' :  66,\n",
            " 'g' :  67,\n",
            " 'h' :  68,\n",
            " 'i' :  69,\n",
            " 'j' :  70,\n",
            " 'k' :  71,\n",
            " 'l' :  72,\n",
            " 'm' :  73,\n",
            " 'n' :  74,\n",
            " 'o' :  75,\n",
            " 'p' :  76,\n",
            " 'q' :  77,\n",
            " 'r' :  78,\n",
            " 's' :  79,\n",
            " 't' :  80,\n",
            " 'u' :  81,\n",
            " 'v' :  82,\n",
            " 'w' :  83,\n",
            " 'x' :  84,\n",
            " 'y' :  85,\n",
            " 'z' :  86,\n",
            " '\\xad':  87,\n",
            " 'ÿ' :  88,\n",
            " 'Š' :  89,\n",
            " '‡' :  90,\n",
            " '…' :  91,\n"
          ]
        }
      ]
    },
    {
      "cell_type": "markdown",
      "source": [
        "y con esta funcion, inversa a la anterior, podemos pasar el texto a enteros:"
      ],
      "metadata": {
        "id": "OvBk0IpZhzHO"
      }
    },
    {
      "cell_type": "code",
      "source": [
        "text_as_int = np.array([char2idx[c] for c in text])\n",
        "#Para comprobar de que el texto ahora es representado por numeros, procederemos a imprimir los primeros 50 caracteres de nuestro texto\n",
        "\n",
        "print('texto: {}'.format(repr(text[:50])))\n",
        "print('texto: {}'.format(repr(text_as_int[:50])))"
      ],
      "metadata": {
        "id": "pxWIZPav4Qdt",
        "colab": {
          "base_uri": "https://localhost:8080/"
        },
        "outputId": "4bf2cbfa-bc4b-4280-a517-ef46086692cb"
      },
      "execution_count": null,
      "outputs": [
        {
          "output_type": "stream",
          "name": "stdout",
          "text": [
            "texto: 'Prologo\\r\\nEn 1953, Isaac Asimov publico Segunda Fun'\n",
            "texto: array([48, 78, 75, 72, 75, 67, 75,  1,  0, 37, 74,  2, 17, 25, 21, 19, 12,\n",
            "        2, 41, 79, 61, 61, 63,  2, 33, 79, 69, 73, 75, 82,  2, 76, 81, 62,\n",
            "       72, 69, 63, 75,  2, 51, 65, 67, 81, 74, 64, 61,  2, 38, 81, 74])\n"
          ]
        }
      ]
    },
    {
      "cell_type": "markdown",
      "source": [
        "# Preparacion de los datos para ser usados por la RNN\n",
        "\n",
        "para entrenar nuestro modelo, preparamos unas secuencias de caracteres como entrada y salida de un tamaño determinado. En nuestra implementacion el tamaño es de 100 como se define en la variable seq_length."
      ],
      "metadata": {
        "id": "VFUKPSkFlKqK"
      }
    },
    {
      "cell_type": "code",
      "source": [
        "import tensorflow as tf\n",
        "char_dataset = tf.data.Dataset.from_tensor_slices(text_as_int) #funcion que crea un conjunto de datos con el contenido del tensor (text_as_int) el cual contiene el texto\n",
        "seq_length = 100\n",
        "sequences = char_dataset.batch(seq_length+1, drop_remainder=True) #Empezamos diviendo el texto el texto en secuencias de seq_length+1. con estos contruiremos los datos de entrenamiento\n",
        "\n",
        "for item in sequences.take(10):\n",
        "  print(repr(''.join(idx2char[item.numpy()])))\n",
        "  # vamos a comprobar que sequences contiene el texto dividido en paquetes de 101 caracteres, mostrando las 10 primeras sequencias"
      ],
      "metadata": {
        "id": "r3ew1x1y5jRa",
        "colab": {
          "base_uri": "https://localhost:8080/"
        },
        "outputId": "b61810eb-8d1d-477c-9cd7-a41a3a68722c"
      },
      "execution_count": null,
      "outputs": [
        {
          "output_type": "stream",
          "name": "stdout",
          "text": [
            "'Prologo\\r\\nEn 1953, Isaac Asimov publico Segunda Fundacion, el tercer libro de la saga de la Fundacion '\n",
            "'(o el decimotercero segun otras fuentes, este es un tema de debate). En Segunda Fundacion aparece por'\n",
            "' primera vez Arkady Darell, uno de los principales personajes de la parte final de la saga. En su pri'\n",
            "'mera escena, Arkady, que tiene 14 anos, esta haciendo sus tareas escolares. En concreto, una redaccio'\n",
            "'n que lleva por titulo ?El Futuro del Plan Sheldon?. Para hacer la redaccion, Arkady esta utilizando '\n",
            "'un ?transcriptor?,un dispositivo que convierte su voz en palabras escritas. Este tipo de dispositivo,'\n",
            "' que para Isaac Asimov era ciencia ficcion en 1953, lo tenemos al alcance de la mano en la mayoria de'\n",
            "' nuestros smartphones, y el Deep Learning es uno de los responsables de que ya tengamos este tipo de '\n",
            "'aplicaciones, siendo la tecnologia otro de ellos.En la actualidad disponemos de GPUs (Graphics Proces'\n",
            "'sor Units), que solo cuestan alrededor de 100 euros, que estarian en la lista del Top500 hace unos po'\n"
          ]
        }
      ]
    },
    {
      "cell_type": "markdown",
      "source": [
        "De esta secuencia se obtiene el conjunto de datos de entrenamiento que contiene tanto los datos de entrada ( desde la posicion 0 a la 99) como los datos de ssalida\n",
        "(desde la posicion 1 a la 100). para ello, se crea una funcion que realiza esta tarea y se aplicca a todas las secuencias usando el metodo map ()"
      ],
      "metadata": {
        "id": "gijCjkHIpuzO"
      }
    },
    {
      "cell_type": "code",
      "source": [
        "def split_input_target(chunk):\n",
        "  input_text = chunk[:-1]\n",
        "  target_text = chunk[1:]\n",
        "  return input_text, target_text"
      ],
      "metadata": {
        "id": "1pH6C8Qh7sBw"
      },
      "execution_count": null,
      "outputs": []
    },
    {
      "cell_type": "code",
      "source": [
        "dataset = sequences.map(split_input_target)"
      ],
      "metadata": {
        "id": "XIXMScSH8Vsr"
      },
      "execution_count": null,
      "outputs": []
    },
    {
      "cell_type": "markdown",
      "source": [
        "En este punto, dataset contiene un conjunto de parejass de secuencias de texto (con la representacion numerica de los caracteres) donde el primer componente de la pareja contiene un paquete con una secuencia de 100 caracteres del texto original, y el segundo contiene su correspondiente salida (etiqueta), tambien de 100 caracteres. Podemos comprobarlo visualizando la primera pareja de datos originales y su respetiva etiqueta"
      ],
      "metadata": {
        "id": "ddVCi9LqqJHN"
      }
    },
    {
      "cell_type": "code",
      "source": [
        "#visualizaremos los datos tanto de entrada como de salida. los cuales deben ser los mismos\n",
        "for input_example, target_example in dataset.take(1):\n",
        "  print ('Input data:', repr(''.join(idx2char[input_example.numpy()])))\n",
        "  print ('Target data:', repr(''.join(idx2char[target_example.numpy()])))"
      ],
      "metadata": {
        "id": "jA8q8TbC8iX9",
        "colab": {
          "base_uri": "https://localhost:8080/"
        },
        "outputId": "a3facce0-c9ca-4e06-95b4-71bcac78f86d"
      },
      "execution_count": null,
      "outputs": [
        {
          "output_type": "stream",
          "name": "stdout",
          "text": [
            "Input data: 'Prologo\\r\\nEn 1953, Isaac Asimov publico Segunda Fundacion, el tercer libro de la saga de la Fundacion'\n",
            "Target data: 'rologo\\r\\nEn 1953, Isaac Asimov publico Segunda Fundacion, el tercer libro de la saga de la Fundacion '\n"
          ]
        }
      ]
    },
    {
      "cell_type": "code",
      "source": [
        "print(dataset)"
      ],
      "metadata": {
        "colab": {
          "base_uri": "https://localhost:8080/"
        },
        "id": "VlFRfyfj9Y2v",
        "outputId": "45dc168b-b6c0-4968-9db3-929c97ad158b"
      },
      "execution_count": null,
      "outputs": [
        {
          "output_type": "stream",
          "name": "stdout",
          "text": [
            "<MapDataset element_spec=(TensorSpec(shape=(100,), dtype=tf.int64, name=None), TensorSpec(shape=(100,), dtype=tf.int64, name=None))>\n"
          ]
        }
      ]
    },
    {
      "cell_type": "code",
      "source": [
        "BATCH_SIZE = 64\n",
        "BUFFER_SIZE = 10000\n",
        "dataset = dataset.shuffle(BUFFER_SIZE).batch(BATCH_SIZE, drop_remainder=True) #indica el tamaño del paquete de los datos que se van a barajar\n",
        "print(dataset)"
      ],
      "metadata": {
        "colab": {
          "base_uri": "https://localhost:8080/"
        },
        "id": "8511cqJo9x7j",
        "outputId": "5cb2df3f-f531-49db-8084-16b736441eca"
      },
      "execution_count": null,
      "outputs": [
        {
          "output_type": "stream",
          "name": "stdout",
          "text": [
            "<BatchDataset element_spec=(TensorSpec(shape=(64, 100), dtype=tf.int64, name=None), TensorSpec(shape=(64, 100), dtype=tf.int64, name=None))>\n"
          ]
        }
      ]
    },
    {
      "cell_type": "markdown",
      "source": [
        "## Construccion del modelo RNN\n",
        "\n",
        "para construir nuestro modelo usaremos solo una capa LSTM. En conreto, definimos una red de 3 capas:"
      ],
      "metadata": {
        "id": "xFKyRR1cs-gW"
      }
    },
    {
      "cell_type": "code",
      "source": [
        "from tensorflow.keras import Sequential\n",
        "from tensorflow.keras.layers import Embedding, LSTM, Dense\n",
        "\n",
        "\n",
        "def build_model(vocab_size,embedding_dim,rnn_units,batch_size):\n",
        "  model = Sequential()\n",
        "\n",
        "#Capa Embedding: permite especificar varios argumentos como el tamaño del vocabulario (vocab_size) que indica cuantos vectores tendra la capa\n",
        "# (embedding_dim), indica las dimensiones de los vectores embedding que en nuestro caso seran de 256\n",
        "# finalmente, se indica el tamaño del batch que usaremos para entrenar, en nuestro caso es de 64\n",
        "\n",
        "  model.add(Embedding(input_dim = vocab_size,\n",
        "                      output_dim = embedding_dim,\n",
        "                      batch_input_shape=[batch_size, None]))\n",
        "  \n",
        "# Capa LSTM: en esta capa solo indicaremos el numero de neuronas recurrentes, con el argumento (rnn_units) y que en nuestro caso hemos decidido que sea de 1024 neuronas\n",
        "# con return_sequences se indica que queremos predecir el caracter siguiente a todos los caracteres de entrada, no solo el siguiente al ultimo caracter\n",
        "# el argumento recurrent_kernel indica como se deben inicializar los pesos de las matrices internas de la red. en nuestro caso se usa la distribucion uniforme (glorot_uniform)\n",
        "  model.add(LSTM(rnn_units,\n",
        "                 return_sequences=True,\n",
        "                 stateful=True,\n",
        "                 recurrent_initializer='glorot_uniform'))\n",
        "\n",
        "#Capa densa: el unico parametro que se indica es el numero de neuronas, y que nos marcara la dimension de la salida.\n",
        "  model.add(Dense(vocab_size))\n",
        "  return model\n",
        "vocab_size = len(vocab)\n",
        "embedding_dim = 256\n",
        "rnn_units = 1024\n",
        "\n",
        "model = build_model(\n",
        "    vocab_size=vocab_size,\n",
        "    embedding_dim=embedding_dim,\n",
        "    rnn_units=rnn_units,\n",
        "    batch_size=BATCH_SIZE\n",
        ")"
      ],
      "metadata": {
        "id": "sDtcGNw9-Vtn"
      },
      "execution_count": null,
      "outputs": []
    },
    {
      "cell_type": "code",
      "source": [
        "model.summary()"
      ],
      "metadata": {
        "id": "gFzM92EpAYNE",
        "colab": {
          "base_uri": "https://localhost:8080/"
        },
        "outputId": "6ba6d953-add8-4eed-bc5b-ecfeae3d4125"
      },
      "execution_count": null,
      "outputs": [
        {
          "output_type": "stream",
          "name": "stdout",
          "text": [
            "Model: \"sequential\"\n",
            "_________________________________________________________________\n",
            " Layer (type)                Output Shape              Param #   \n",
            "=================================================================\n",
            " embedding (Embedding)       (64, None, 256)           23552     \n",
            "                                                                 \n",
            " lstm (LSTM)                 (64, None, 1024)          5246976   \n",
            "                                                                 \n",
            " dense (Dense)               (64, None, 92)            94300     \n",
            "                                                                 \n",
            "=================================================================\n",
            "Total params: 5,364,828\n",
            "Trainable params: 5,364,828\n",
            "Non-trainable params: 0\n",
            "_________________________________________________________________\n"
          ]
        }
      ]
    },
    {
      "cell_type": "code",
      "source": [
        "from tensorflow import keras\n",
        "keras.utils.plot_model(model, to_file='model_plot.png', show_shapes=True, show_layer_names=True)"
      ],
      "metadata": {
        "colab": {
          "base_uri": "https://localhost:8080/",
          "height": 422
        },
        "id": "1aZEEs3YQ136",
        "outputId": "cc0df7f9-d339-455d-84c0-fb91c23e4d82"
      },
      "execution_count": null,
      "outputs": [
        {
          "output_type": "execute_result",
          "data": {
            "image/png": "[encoded data removed]",
            "text/plain": [
              "<IPython.core.display.Image object>"
            ]
          },
          "metadata": {},
          "execution_count": 14
        }
      ]
    },
    {
      "cell_type": "code",
      "source": [
        "for input_example_batch, target_example_batch in dataset.take(1):\n",
        "  print('Input:',input_example_batch.shape, '# (batch_size,sequence_lenght)')\n",
        "  print('Target:',target_example_batch.shape, '# (batch_size,sequence_lenght)')"
      ],
      "metadata": {
        "colab": {
          "base_uri": "https://localhost:8080/"
        },
        "id": "woIBcpjfApVc",
        "outputId": "bd0a90d9-857d-435f-fa61-162b1f63cc97"
      },
      "execution_count": null,
      "outputs": [
        {
          "output_type": "stream",
          "name": "stdout",
          "text": [
            "Input: (64, 100) # (batch_size,sequence_lenght)\n",
            "Target: (64, 100) # (batch_size,sequence_lenght)\n"
          ]
        }
      ]
    },
    {
      "cell_type": "code",
      "source": [
        "for input_example_batch, target_example_batch in dataset.take(1):\n",
        "  example_bacth_predictions = model(input_example_batch)\n",
        "  print('Predicition: ', example_bacth_predictions.shape,\n",
        "        '# (batch_size, sequence_lenght, vocab_size)')"
      ],
      "metadata": {
        "colab": {
          "base_uri": "https://localhost:8080/"
        },
        "id": "Iy5WVo_RB3Ke",
        "outputId": "452584b3-7e48-4b4f-8d0d-dbfbaef7d1dd"
      },
      "execution_count": null,
      "outputs": [
        {
          "output_type": "stream",
          "name": "stdout",
          "text": [
            "Predicition:  (64, 100, 92) # (batch_size, sequence_lenght, vocab_size)\n"
          ]
        }
      ]
    },
    {
      "cell_type": "code",
      "source": [
        "# con tf.random.categorical se obtiene una muestra de distribucion categorica y con squeeze se eliminan las dimensiones del tensor de tamaño 1\n",
        "#de este modo siempre se obtiene una prediccion del indice del siguiente caracter\n",
        "sampled_indices = tf.random.categorical(\n",
        "    example_bacth_predictions[0],\n",
        "    num_samples=1\n",
        ")\n",
        "sampled_indices_characteres = tf.squeeze(sampled_indices,axis=-1).numpy()"
      ],
      "metadata": {
        "id": "_YHWFZdFDYOp"
      },
      "execution_count": null,
      "outputs": []
    },
    {
      "cell_type": "code",
      "source": [
        "print(sampled_indices_characteres)"
      ],
      "metadata": {
        "colab": {
          "base_uri": "https://localhost:8080/"
        },
        "id": "STdshswhDuan",
        "outputId": "d3686bbd-62a8-470b-f429-15b7c5626b79"
      },
      "execution_count": null,
      "outputs": [
        {
          "output_type": "stream",
          "name": "stdout",
          "text": [
            "[ 7  8 23 47 14 18 61 67 68 52 54 65  6 10 40 20 74 91 44 32  2 32 26 11\n",
            " 72  0 11  9 34 91 22 37  4 61 72 16 63 13 32 44 51 24 54 35 25  7 61 77\n",
            " 64 53  0  9 57  6 83 68 78 15 12 39 46 59 40  5 71  9 61 44 54 43 28 39\n",
            " 22 24 51 91 33 33 90  9 42 28 55 69 64 12 80 87 15 65 58  7 54 15 21 68\n",
            " 81 82 78 64]\n"
          ]
        }
      ]
    },
    {
      "cell_type": "markdown",
      "source": [
        "## Entrenamiento del modelo RNN"
      ],
      "metadata": {
        "id": "xmFT_FhU5dxZ"
      }
    },
    {
      "cell_type": "code",
      "source": [
        "#entrenando el modelo\n",
        "def loss(labels,logist):\n",
        "  return tf.keras.losses.sparse_categorical_crossentropy(labels,logist,from_logits=True)"
      ],
      "metadata": {
        "id": "8-LmSenwD23b"
      },
      "execution_count": null,
      "outputs": []
    },
    {
      "cell_type": "code",
      "source": [
        "model.compile(optimizer='adam', loss=loss)"
      ],
      "metadata": {
        "id": "H35-DfwGEY9E"
      },
      "execution_count": null,
      "outputs": []
    },
    {
      "cell_type": "code",
      "source": [
        "import os\n",
        "chkpoint = './training_chkpoint'\n",
        "chkpoint_prefix= os.path.join(chkpoint, 'ckpt_{epoch}')\n",
        "\n",
        "chkpoint_callback=tf.keras.callbacks.ModelCheckpoint(filepath=chkpoint_prefix,\n",
        "                                                     save_weights_only=True)"
      ],
      "metadata": {
        "id": "JA_9hKISEg3d"
      },
      "execution_count": null,
      "outputs": []
    },
    {
      "cell_type": "code",
      "source": [
        "EPOCHS = 50\n",
        "history = model.fit(dataset,epochs=EPOCHS,callbacks=[chkpoint_callback])"
      ],
      "metadata": {
        "id": "hL4ILISSFglo",
        "colab": {
          "base_uri": "https://localhost:8080/"
        },
        "outputId": "868a6d28-a495-4286-ca17-1a91eef073f6"
      },
      "execution_count": null,
      "outputs": [
        {
          "output_type": "stream",
          "name": "stdout",
          "text": [
            "Epoch 1/50\n",
            "31/31 [==============================] - 188s 6s/step - loss: 3.4111\n",
            "Epoch 2/50\n",
            "31/31 [==============================] - 186s 6s/step - loss: 2.9182\n",
            "Epoch 3/50\n",
            "31/31 [==============================] - 190s 6s/step - loss: 2.6235\n",
            "Epoch 4/50\n",
            "31/31 [==============================] - 187s 6s/step - loss: 2.4267\n",
            "Epoch 5/50\n",
            "31/31 [==============================] - 182s 6s/step - loss: 2.2907\n",
            "Epoch 6/50\n",
            "31/31 [==============================] - 184s 6s/step - loss: 2.1987\n",
            "Epoch 7/50\n",
            "31/31 [==============================] - 187s 6s/step - loss: 2.1260\n",
            "Epoch 8/50\n",
            "31/31 [==============================] - 201s 6s/step - loss: 2.0583\n",
            "Epoch 9/50\n",
            "31/31 [==============================] - 187s 6s/step - loss: 1.9889\n",
            "Epoch 10/50\n",
            "31/31 [==============================] - 185s 6s/step - loss: 1.9184\n",
            "Epoch 11/50\n",
            "31/31 [==============================] - 187s 6s/step - loss: 1.8485\n",
            "Epoch 12/50\n",
            "31/31 [==============================] - 185s 6s/step - loss: 1.7782\n",
            "Epoch 13/50\n",
            "31/31 [==============================] - 188s 6s/step - loss: 1.7147\n",
            "Epoch 14/50\n",
            "31/31 [==============================] - 184s 6s/step - loss: 1.6505\n",
            "Epoch 15/50\n",
            "31/31 [==============================] - 187s 6s/step - loss: 1.5901\n",
            "Epoch 16/50\n",
            "31/31 [==============================] - 185s 6s/step - loss: 1.5328\n",
            "Epoch 17/50\n",
            "31/31 [==============================] - 184s 6s/step - loss: 1.4800\n",
            "Epoch 18/50\n",
            "31/31 [==============================] - 200s 6s/step - loss: 1.4366\n",
            "Epoch 19/50\n",
            "31/31 [==============================] - 202s 6s/step - loss: 1.3922\n",
            "Epoch 20/50\n",
            "31/31 [==============================] - 197s 6s/step - loss: 1.3465\n",
            "Epoch 21/50\n",
            "31/31 [==============================] - 183s 6s/step - loss: 1.3076\n",
            "Epoch 22/50\n",
            "31/31 [==============================] - 197s 6s/step - loss: 1.2779\n",
            "Epoch 23/50\n",
            "31/31 [==============================] - 200s 6s/step - loss: 1.2466\n",
            "Epoch 24/50\n",
            "31/31 [==============================] - 193s 6s/step - loss: 1.2135\n",
            "Epoch 25/50\n",
            "31/31 [==============================] - 200s 6s/step - loss: 1.1838\n",
            "Epoch 26/50\n",
            "31/31 [==============================] - 197s 6s/step - loss: 1.1579\n",
            "Epoch 27/50\n",
            "31/31 [==============================] - 205s 7s/step - loss: 1.1306\n",
            "Epoch 28/50\n",
            "31/31 [==============================] - 213s 7s/step - loss: 1.1053\n",
            "Epoch 29/50\n",
            "31/31 [==============================] - 205s 7s/step - loss: 1.0856\n",
            "Epoch 30/50\n",
            "31/31 [==============================] - 218s 7s/step - loss: 1.0644\n",
            "Epoch 31/50\n",
            "31/31 [==============================] - 192s 6s/step - loss: 1.0401\n",
            "Epoch 32/50\n",
            "31/31 [==============================] - 204s 7s/step - loss: 1.0179\n",
            "Epoch 33/50\n",
            "31/31 [==============================] - 213s 7s/step - loss: 0.9971\n",
            "Epoch 34/50\n",
            "31/31 [==============================] - 234s 8s/step - loss: 0.9790\n",
            "Epoch 35/50\n",
            "31/31 [==============================] - 216s 7s/step - loss: 0.9597\n",
            "Epoch 36/50\n",
            "31/31 [==============================] - 203s 7s/step - loss: 0.9404\n",
            "Epoch 37/50\n",
            "31/31 [==============================] - 204s 7s/step - loss: 0.9234\n",
            "Epoch 38/50\n",
            "31/31 [==============================] - 204s 7s/step - loss: 0.9040\n",
            "Epoch 39/50\n",
            "31/31 [==============================] - 234s 8s/step - loss: 0.8871\n",
            "Epoch 40/50\n",
            "31/31 [==============================] - 213s 7s/step - loss: 0.8690\n",
            "Epoch 41/50\n",
            "31/31 [==============================] - 210s 7s/step - loss: 0.8509\n",
            "Epoch 42/50\n",
            "31/31 [==============================] - 204s 7s/step - loss: 0.8365\n",
            "Epoch 43/50\n",
            "31/31 [==============================] - 207s 7s/step - loss: 0.8144\n",
            "Epoch 44/50\n",
            "31/31 [==============================] - 205s 7s/step - loss: 0.7982\n",
            "Epoch 45/50\n",
            "31/31 [==============================] - 208s 7s/step - loss: 0.7832\n",
            "Epoch 46/50\n",
            "31/31 [==============================] - 208s 7s/step - loss: 0.7632\n",
            "Epoch 47/50\n",
            "31/31 [==============================] - 205s 7s/step - loss: 0.7479\n",
            "Epoch 48/50\n",
            "31/31 [==============================] - 208s 7s/step - loss: 0.7346\n",
            "Epoch 49/50\n",
            "31/31 [==============================] - 202s 6s/step - loss: 0.7120\n",
            "Epoch 50/50\n",
            "31/31 [==============================] - 206s 7s/step - loss: 0.6931\n"
          ]
        }
      ]
    },
    {
      "cell_type": "code",
      "source": [
        "!ls training_chkpoint"
      ],
      "metadata": {
        "id": "nBR59Q4GFxCy",
        "colab": {
          "base_uri": "https://localhost:8080/"
        },
        "outputId": "57f17d81-250c-403a-f889-31eac0fc1ade"
      },
      "execution_count": null,
      "outputs": [
        {
          "output_type": "stream",
          "name": "stdout",
          "text": [
            "checkpoint\t\t     ckpt_33.data-00000-of-00001\n",
            "ckpt_10.data-00000-of-00001  ckpt_33.index\n",
            "ckpt_10.index\t\t     ckpt_34.data-00000-of-00001\n",
            "ckpt_11.data-00000-of-00001  ckpt_34.index\n",
            "ckpt_11.index\t\t     ckpt_35.data-00000-of-00001\n",
            "ckpt_12.data-00000-of-00001  ckpt_35.index\n",
            "ckpt_12.index\t\t     ckpt_36.data-00000-of-00001\n",
            "ckpt_13.data-00000-of-00001  ckpt_36.index\n",
            "ckpt_13.index\t\t     ckpt_37.data-00000-of-00001\n",
            "ckpt_14.data-00000-of-00001  ckpt_37.index\n",
            "ckpt_14.index\t\t     ckpt_38.data-00000-of-00001\n",
            "ckpt_15.data-00000-of-00001  ckpt_38.index\n",
            "ckpt_15.index\t\t     ckpt_39.data-00000-of-00001\n",
            "ckpt_16.data-00000-of-00001  ckpt_39.index\n",
            "ckpt_16.index\t\t     ckpt_3.data-00000-of-00001\n",
            "ckpt_17.data-00000-of-00001  ckpt_3.index\n",
            "ckpt_17.index\t\t     ckpt_40.data-00000-of-00001\n",
            "ckpt_18.data-00000-of-00001  ckpt_40.index\n",
            "ckpt_18.index\t\t     ckpt_41.data-00000-of-00001\n",
            "ckpt_19.data-00000-of-00001  ckpt_41.index\n",
            "ckpt_19.index\t\t     ckpt_42.data-00000-of-00001\n",
            "ckpt_1.data-00000-of-00001   ckpt_42.index\n",
            "ckpt_1.index\t\t     ckpt_43.data-00000-of-00001\n",
            "ckpt_20.data-00000-of-00001  ckpt_43.index\n",
            "ckpt_20.index\t\t     ckpt_44.data-00000-of-00001\n",
            "ckpt_21.data-00000-of-00001  ckpt_44.index\n",
            "ckpt_21.index\t\t     ckpt_45.data-00000-of-00001\n",
            "ckpt_22.data-00000-of-00001  ckpt_45.index\n",
            "ckpt_22.index\t\t     ckpt_46.data-00000-of-00001\n",
            "ckpt_23.data-00000-of-00001  ckpt_46.index\n",
            "ckpt_23.index\t\t     ckpt_47.data-00000-of-00001\n",
            "ckpt_24.data-00000-of-00001  ckpt_47.index\n",
            "ckpt_24.index\t\t     ckpt_48.data-00000-of-00001\n",
            "ckpt_25.data-00000-of-00001  ckpt_48.index\n",
            "ckpt_25.index\t\t     ckpt_49.data-00000-of-00001\n",
            "ckpt_26.data-00000-of-00001  ckpt_49.index\n",
            "ckpt_26.index\t\t     ckpt_4.data-00000-of-00001\n",
            "ckpt_27.data-00000-of-00001  ckpt_4.index\n",
            "ckpt_27.index\t\t     ckpt_50.data-00000-of-00001\n",
            "ckpt_28.data-00000-of-00001  ckpt_50.index\n",
            "ckpt_28.index\t\t     ckpt_5.data-00000-of-00001\n",
            "ckpt_29.data-00000-of-00001  ckpt_5.index\n",
            "ckpt_29.index\t\t     ckpt_6.data-00000-of-00001\n",
            "ckpt_2.data-00000-of-00001   ckpt_6.index\n",
            "ckpt_2.index\t\t     ckpt_7.data-00000-of-00001\n",
            "ckpt_30.data-00000-of-00001  ckpt_7.index\n",
            "ckpt_30.index\t\t     ckpt_8.data-00000-of-00001\n",
            "ckpt_31.data-00000-of-00001  ckpt_8.index\n",
            "ckpt_31.index\t\t     ckpt_9.data-00000-of-00001\n",
            "ckpt_32.data-00000-of-00001  ckpt_9.index\n",
            "ckpt_32.index\n"
          ]
        }
      ]
    },
    {
      "cell_type": "code",
      "source": [
        "model = build_model(vocab_size, embedding_dim, rnn_units, batch_size=1)\n",
        "model.load_weights(tf.train.latest_checkpoint(chkpoint))\n",
        "model.build(tf.TensorShape([1,None]))"
      ],
      "metadata": {
        "id": "EsNqKYy87re-"
      },
      "execution_count": null,
      "outputs": []
    },
    {
      "cell_type": "markdown",
      "source": [
        "## Generacion de texto usando el modelo RNN\n",
        "ya que nuestro modelo se ha entrenado, es posible hacer uso de el para generar texto y lo haremos a partir de una palabra."
      ],
      "metadata": {
        "id": "bNCrP1nLMjxA"
      }
    },
    {
      "cell_type": "code",
      "source": [
        "def generate_text(model,start_string):\n",
        "  num_generate = 500 #numero de caracteres a predecir\n",
        "  input_eval = [char2idx [s] for s in start_string]\n",
        "  input_eval = tf.expand_dims(input_eval,0)\n",
        "  text_generated=[]\n",
        "  temperature = 0.5 #variable definida como humbral (hasta 1) ya que el modelo puede recibir una palabra con errores de ortografia\n",
        "  #con una tolerancia mas alta, el modelo tendra mas creatividad, pero dara mas errores. mientras que si tolerancia es menor\n",
        "  #mostrara menos creatividad y sus errores seran pocos\n",
        "  model.reset_states()\n",
        "\n",
        "  for i in range(num_generate):\n",
        "    predictions = model(input_eval)\n",
        "    predictions = tf.squeeze(predictions,0)\n",
        "\n",
        "    predictions = predictions/temperature\n",
        "    predicted_id = tf.random.categorical(predictions, num_samples = 1)[-1,0].numpy()\n",
        "\n",
        "    input_eval = tf.expand_dims([predicted_id],0)\n",
        "    text_generated.append(idx2char[predicted_id])\n",
        "\n",
        "  return (start_string + ''.join(text_generated))"
      ],
      "metadata": {
        "id": "dUy8S3l686ix"
      },
      "execution_count": null,
      "outputs": []
    },
    {
      "cell_type": "code",
      "source": [
        "print(generate_text(model,start_string=u'domingo '))"
      ],
      "metadata": {
        "colab": {
          "base_uri": "https://localhost:8080/"
        },
        "id": "6MfCpF9c-3My",
        "outputId": "21d6f83b-268a-409c-8f1e-6722af086b20"
      },
      "execution_count": null,
      "outputs": [
        {
          "output_type": "stream",
          "name": "stdout",
          "text": [
            "domingo de aprendizaje supervisado por un conjunto de datos MNIST a la segunda parte del libro esta mismo ya hemos visto anteriormente por el modelo predictos y menos mas complejas en la capa de convolucion y el modelo en cambio, la arcalizacion de la red neuronal con Keras. Concretamente programar el disto principal de cada uno de los parametros (pesos y sesgo b) para el numero de epochs para la columnar en la siguiente figura podemos ver el modelo presenta el tipo de datos que permite a cada represent\n"
          ]
        }
      ]
    }
  ]
}